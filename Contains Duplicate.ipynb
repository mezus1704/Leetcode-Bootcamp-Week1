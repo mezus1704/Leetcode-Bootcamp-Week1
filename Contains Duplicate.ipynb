{
 "cells": [
  {
   "cell_type": "code",
   "execution_count": 1,
   "id": "f0b4c352",
   "metadata": {},
   "outputs": [
    {
     "name": "stdout",
     "output_type": "stream",
     "text": [
      "True\n"
     ]
    }
   ],
   "source": [
    "def containsDuplicate(nums):\n",
    "    # elements in a set are unique\n",
    "    s = set()\n",
    "    for n in nums:\n",
    "        if n in s:\n",
    "            return True\n",
    "        s.add(n)\n",
    "    return False\n",
    "\n",
    "## This method passed partial test cases on leetcode, some of the test cases exceeded time limie\n",
    "\n",
    "    # for n in nums:\n",
    "    #     if nums.count(n) > 1:\n",
    "    #         return True\n",
    "    # return False\n",
    "\n",
    "nums = [1,2,3,1]\n",
    "result = containsDuplicate(nums)\n",
    "print(result)"
   ]
  },
  {
   "cell_type": "code",
   "execution_count": null,
   "id": "d46ca615",
   "metadata": {},
   "outputs": [],
   "source": []
  }
 ],
 "metadata": {
  "kernelspec": {
   "display_name": "Python 3 (ipykernel)",
   "language": "python",
   "name": "python3"
  },
  "language_info": {
   "codemirror_mode": {
    "name": "ipython",
    "version": 3
   },
   "file_extension": ".py",
   "mimetype": "text/x-python",
   "name": "python",
   "nbconvert_exporter": "python",
   "pygments_lexer": "ipython3",
   "version": "3.11.4"
  }
 },
 "nbformat": 4,
 "nbformat_minor": 5
}
