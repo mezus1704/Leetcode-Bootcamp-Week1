{
 "cells": [
  {
   "cell_type": "code",
   "execution_count": 1,
   "id": "54abf8b8",
   "metadata": {},
   "outputs": [
    {
     "name": "stdout",
     "output_type": "stream",
     "text": [
      "40\n"
     ]
    }
   ],
   "source": [
    "def max_area(height):\n",
    "    ## Brute Force Approach\n",
    "    max_water = 0\n",
    "    n = len(height)\n",
    "    \n",
    "    # Itearting over all possible pairs of i,j \n",
    "    for i in range(n):\n",
    "        for j in range(i+1, n):\n",
    "            h = min(height[i], height[j])\n",
    "            # Calculating Width of Container\n",
    "            w = j - i\n",
    "            # updating maximum area if current area is greater of the two\n",
    "            max_water = max(max_water, h * w) \n",
    "    \n",
    "    return max_water\n",
    "\n",
    "\n",
    "height = [1,8,6,2,5,4,8,3,5]\n",
    "result = max_area(height)\n",
    "print(result)"
   ]
  },
  {
   "cell_type": "code",
   "execution_count": null,
   "id": "796c70cc",
   "metadata": {},
   "outputs": [],
   "source": []
  }
 ],
 "metadata": {
  "kernelspec": {
   "display_name": "Python 3 (ipykernel)",
   "language": "python",
   "name": "python3"
  },
  "language_info": {
   "codemirror_mode": {
    "name": "ipython",
    "version": 3
   },
   "file_extension": ".py",
   "mimetype": "text/x-python",
   "name": "python",
   "nbconvert_exporter": "python",
   "pygments_lexer": "ipython3",
   "version": "3.11.4"
  }
 },
 "nbformat": 4,
 "nbformat_minor": 5
}
