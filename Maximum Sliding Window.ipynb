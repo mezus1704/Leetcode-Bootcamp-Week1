{
 "cells": [
  {
   "cell_type": "code",
   "execution_count": 4,
   "id": "76991917",
   "metadata": {},
   "outputs": [
    {
     "name": "stdout",
     "output_type": "stream",
     "text": [
      "[3, 3, 1, 4, 4, 4, 2, 5, 5, 5, 8]\n"
     ]
    }
   ],
   "source": [
    "def maxSlidingWindow(nums, k):\n",
    "    n = len(nums)\n",
    "    max_values = []\n",
    "    \n",
    "    for i in range(n - k + 1):\n",
    "        # Get the current window of size k\n",
    "        window = nums[i:i + k]\n",
    "        \n",
    "        # Finding the maximum element in the current window\n",
    "        max_values.append(max(window))\n",
    "    \n",
    "    return max_values\n",
    "\n",
    "nums = [1,3,0,1,-2,4,2,-1,-3,5,-1,-2,8]\n",
    "k = 3\n",
    "\n",
    "result = maxSlidingWindow(nums, k)\n",
    "print(result)"
   ]
  },
  {
   "cell_type": "code",
   "execution_count": null,
   "id": "53f44a11",
   "metadata": {},
   "outputs": [],
   "source": []
  }
 ],
 "metadata": {
  "kernelspec": {
   "display_name": "Python 3 (ipykernel)",
   "language": "python",
   "name": "python3"
  },
  "language_info": {
   "codemirror_mode": {
    "name": "ipython",
    "version": 3
   },
   "file_extension": ".py",
   "mimetype": "text/x-python",
   "name": "python",
   "nbconvert_exporter": "python",
   "pygments_lexer": "ipython3",
   "version": "3.11.4"
  }
 },
 "nbformat": 4,
 "nbformat_minor": 5
}
